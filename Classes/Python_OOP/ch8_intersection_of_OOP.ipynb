{
 "cells": [
  {
   "cell_type": "markdown",
   "metadata": {},
   "source": [
    "#### Functions are objects Too\n"
   ]
  },
  {
   "cell_type": "code",
   "execution_count": null,
   "metadata": {},
   "outputs": [
    {
     "name": "stdout",
     "output_type": "stream",
     "text": [
      "1\n",
      "2\n",
      "['fizz']\n",
      "4\n",
      "['buzz']\n",
      "['fizz']\n",
      "['bazz']\n",
      "8\n",
      "['fizz']\n",
      "['buzz']\n",
      "11\n",
      "['fizz']\n",
      "13\n",
      "['bazz']\n",
      "['fizz', 'buzz']\n"
     ]
    },
    {
     "data": {
      "text/plain": [
       "['buzz']"
      ]
     },
     "execution_count": 8,
     "metadata": {},
     "output_type": "execute_result"
    }
   ],
   "source": [
    "from __future__ import annotations\n",
    "\n",
    "def fizz(x:int) -> bool:\n",
    "    return x % 3 == 0\n",
    "\n",
    "def buzz(x:int) -> bool:\n",
    "    return x % 5 == 0\n",
    "\n",
    "def bazz(x:int) -> bool:\n",
    "    return x % 7 == 0\n",
    "\n",
    "def name_or_number(number:int, *tests: Callable[[int], bool]) -> None:\n",
    "    results = []\n",
    "    for t in tests:\n",
    "        if t(number):\n",
    "            results.append(t.__name__)\n",
    "    # results = [t.__name__ for t in tests if t(number)]\n",
    "    return results if results else str(number)\n",
    "    \n",
    "for i in range(1,16):\n",
    "    print(name_or_number(i, fizz, buzz, bazz))\n",
    "\n",
    "name_or_number(5, fizz, buzz)"
   ]
  },
  {
   "cell_type": "markdown",
   "metadata": {},
   "source": []
  }
 ],
 "metadata": {
  "kernelspec": {
   "display_name": "base",
   "language": "python",
   "name": "python3"
  },
  "language_info": {
   "codemirror_mode": {
    "name": "ipython",
    "version": 3
   },
   "file_extension": ".py",
   "mimetype": "text/x-python",
   "name": "python",
   "nbconvert_exporter": "python",
   "pygments_lexer": "ipython3",
   "version": "3.12.7"
  }
 },
 "nbformat": 4,
 "nbformat_minor": 2
}
